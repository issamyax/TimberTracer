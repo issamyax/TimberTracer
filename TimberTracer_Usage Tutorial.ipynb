{
  "nbformat": 4,
  "nbformat_minor": 0,
  "metadata": {
    "colab": {
      "provenance": []
    },
    "kernelspec": {
      "name": "python3",
      "display_name": "Python 3"
    },
    "language_info": {
      "name": "python"
    }
  },
  "cells": [
    {
      "cell_type": "markdown",
      "source": [
        "#Clone TimberTracer Repository\n",
        "(To be replaced once the repo is publicly available for publishing)"
      ],
      "metadata": {
        "id": "ybaws4ia7r8S"
      }
    },
    {
      "cell_type": "code",
      "source": [
        "!git clone https://github.com/issamyax/TimberTracer.git"
      ],
      "metadata": {
        "id": "5vzIORiz9ooO",
        "colab": {
          "base_uri": "https://localhost:8080/"
        },
        "outputId": "f69670b6-4efd-4491-b421-c952497ea183"
      },
      "execution_count": null,
      "outputs": [
        {
          "output_type": "stream",
          "name": "stdout",
          "text": [
            "Cloning into 'TimberTracer'...\n",
            "remote: Enumerating objects: 56, done.\u001b[K\n",
            "remote: Counting objects: 100% (56/56), done.\u001b[K\n",
            "remote: Compressing objects: 100% (53/53), done.\u001b[K\n",
            "remote: Total 56 (delta 14), reused 21 (delta 1), pack-reused 0\u001b[K\n",
            "Receiving objects: 100% (56/56), 40.36 KiB | 677.00 KiB/s, done.\n",
            "Resolving deltas: 100% (14/14), done.\n"
          ]
        }
      ]
    },
    {
      "cell_type": "markdown",
      "source": [
        "#Change Working Directory"
      ],
      "metadata": {
        "id": "rzlXrkpF99zG"
      }
    },
    {
      "cell_type": "code",
      "source": [
        "%cd /content/TimberTracer/timbertracer"
      ],
      "metadata": {
        "colab": {
          "base_uri": "https://localhost:8080/"
        },
        "id": "Gv2kWElt99UD",
        "outputId": "176a0570-73a2-40db-e3d3-d594cda6289e"
      },
      "execution_count": null,
      "outputs": [
        {
          "output_type": "stream",
          "name": "stdout",
          "text": [
            "/content/TimberTracer/timbertracer\n"
          ]
        }
      ]
    },
    {
      "cell_type": "markdown",
      "source": [
        "#Configure Parameters"
      ],
      "metadata": {
        "id": "Lxuz37jV-MfK"
      }
    },
    {
      "cell_type": "code",
      "source": [
        "settings = \"\"\"\n",
        "\n",
        "###########################\n",
        "# Block wood use parameters\n",
        "###########################\n",
        "\n",
        "# Efficiency of the industrial processes\n",
        "efficiency = {\"Stump\": 1, \"fire\": 1, \"furniture\": 0.45, \"lumber\": 0.5, \"paper\": 0.8 , \"particle\": 0.76, \"sawing\": 0.40, \"toplog\": 1}\n",
        "\n",
        "# Reallocation of the industrial loss\n",
        "loss_allocation = {\"furniture\": {\"fire\": 0.15, \"particle\": 0.1, \"paper\": 0.2, \"millsite\": 0.1},\n",
        "                   \"lumber\": {\"fire\": 0.15 , \"particle\": 0.1, \"paper\": 0.15, \"millsite\": 0.10},\n",
        "                   \"sawing\": {\"fire\": 0.2, \"particle\": 0.2, \"paper\": 0, \"millsite\": 0.1},\n",
        "                   \"particle\":{\"fire\": 0.14, \"particle\":0, \"paper\": 0, \"millsite\": 0.2},\n",
        "                   \"paper\": {\"fire\": 0, \"particle\": 0, \"paper\": 0, \"millsite\": 0.2}}\n",
        "\n",
        "# Recycling data on products\n",
        "recycling = {\"furniture\": {'r': 0.1, 'ls': 40 , 'fire': 0.8 , 'landfill': 0.1},\n",
        "             \"lumber\": {'r': 0.1, 'ls': 60, 'fire': 0.8, 'landfill': 0.1},\n",
        "             \"paper\": {'r': 0.1, 'ls': 1, 'fire': 0.8, 'landfill': 0.1},\n",
        "             \"sawing\": {'r': 0.1, 'ls': 50, 'fire': 0.8, 'landfill': 0.1},\n",
        "             \"particle\": {'r': 0.1, 'ls': 20, 'fire': 0.8 , 'landfill': 0.1}}\n",
        "\n",
        "\n",
        "# Half-lifetime of \"non-main-products\"\n",
        "decay = {\"landfill\": 145, \"millsite\": 5, \"fire\" : 1}\n",
        "\n",
        "# Matrix of substitution coefficient. Values are by reference to the dry volume tCO2 / m3 (dry volume)\n",
        "substitution_matrix = {\"furniture\": 0.82,\n",
        "                       \"lumber\": 0.06,\n",
        "                       \"sawing\": 0.32,\n",
        "                       \"particle\": 0.2,\n",
        "                       \"fire\": 0.48}\n",
        "\n",
        "# Moisture content\n",
        "MC = 0.12\n",
        "K = 1/(1+MC)\n",
        "\n",
        "# Density and carbon content\n",
        "D = 0.588 #t/m3 # https://doi.org/10.1007/s13595-018-0734-6 (source from where density has been extracted)\n",
        "CC = 0.5 # proportion of carbon in the dry biomass\n",
        "C_CO2 = 3.67 # The conversion factor from C to CO2\n",
        "\n",
        "##########\n",
        "\n",
        "\n",
        "#Management Scenarios\n",
        "\n",
        "management_jardin = {\"N_rotation\": [1, 1, 1, 1, 1],\n",
        "            \"age\": [39, 63, 78, 93, 108],\n",
        "            \"total_pop\" : [1396, 532, 314, 192, 123],\n",
        "            \"target_sum\": [10.47, 11.70, 11.68, 11.69, 11.53],\n",
        "            \"DBH\": [19.54, 31.61, 41.12, 52.61, 65.3],\n",
        "            \"bark\": [1.5, 1.5, 1.5, 1.5, 1.5],\n",
        "            \"sap_area\": [199.72, 412.95, 634, 979, 1415],\n",
        "            \"heart_area\": [100.31, 372.21, 693, 1195, 1933],\n",
        "            \"thinning_type\": ['above', 'above', 'above', 'above', 'above']}\n",
        "\n",
        "management_clearcut = {\"N_rotation\": [1, 1],\n",
        "            \"age\": [39, 84],\n",
        "            \"total_pop\" : [1396, 275],\n",
        "            \"target_sum\": [10.47, 41.83],\n",
        "            \"DBH\": [19.54, 44.01],\n",
        "            \"bark\": [1.5, 1.5],\n",
        "            \"sap_area\": [199.72, 698.16],\n",
        "            \"heart_area\": [100.31, 823.18],\n",
        "            \"thinning_type\": ['above', 'neutral']}\n",
        "\n",
        "\n",
        "management_shelter = {\"N_rotation\": [1, 1, 1, 1, 1],\n",
        "            \"age\": [39, 63, 73, 84, 94],\n",
        "            \"total_pop\" : [1396, 532, 376, 261, 52],\n",
        "            \"target_sum\": [10.47, 8.35, 8.38, 33.44, 14.51],\n",
        "            \"DBH\": [19.54, 31.62, 37.67, 45.16, 59.61],\n",
        "            \"bark\": [1.5, 1.5, 1.5, 1.5, 1.5],\n",
        "            \"sap_area\": [199.72, 412.95, 550.07,750.85, 1552.51],\n",
        "            \"heart_area\": [100.31, 372.21, 564.51, 851.08, 1238.62],\n",
        "            \"thinning_type\": ['above', 'bottom', 'bottom', 'neutral', 'neutral']}\n",
        "\n",
        "#Wood use scenarios\n",
        "\n",
        "recycling_BAU = {\"furniture\": {'r': 0.1, 'ls': 40 , 'fire': 0.8 , 'landfill': 0.1},\n",
        "            \"lumber\": {'r': 0.1, 'ls': 60, 'fire': 0.8, 'landfill': 0.1},\n",
        "            \"paper\": {'r': 0.1, 'ls': 1, 'fire': 0.8, 'landfill': 0.1},\n",
        "            \"sawing\": {'r': 0.1, 'ls': 50, 'fire': 0.8, 'landfill': 0.1},\n",
        "            \"particle\": {'r': 0.1, 'ls': 20, 'fire': 0.8 , 'landfill': 0.1}}\n",
        "\n",
        "recycling_RR10 = {\"furniture\": {'r': 0.11, 'ls': 40 , 'fire': 0.79 , 'landfill': 0.1},\n",
        "            \"lumber\": {'r': 0.11, 'ls': 60, 'fire': 0.79, 'landfill': 0.1},\n",
        "            \"paper\": {'r': 0.11, 'ls': 1, 'fire': 0.79, 'landfill': 0.1},\n",
        "            \"sawing\": {'r': 0.11, 'ls': 50, 'fire': 0.79, 'landfill': 0.1},\n",
        "            \"particle\": {'r': 0.11, 'ls': 20, 'fire': 0.79 , 'landfill': 0.1}}\n",
        "\n",
        "recycling_LS10 = {\"furniture\": {'r': 0.1, 'ls': 44 , 'fire': 0.8 , 'landfill': 0.1},\n",
        "            \"lumber\": {'r': 0.1, 'ls': 66, 'fire': 0.8, 'landfill': 0.1},\n",
        "            \"paper\": {'r': 0.1, 'ls': 1.1, 'fire': 0.8, 'landfill': 0.1},\n",
        "            \"sawing\": {'r': 0.1, 'ls': 55, 'fire': 0.8, 'landfill': 0.1},\n",
        "            \"particle\": {'r': 0.1, 'ls': 22, 'fire': 0.8 , 'landfill': 0.1}}\n",
        "\n",
        "recycling_RRLS10 = {\"furniture\": {'r': 0.11, 'ls': 44 , 'fire': 0.79 , 'landfill': 0.1},\n",
        "            \"lumber\": {'r': 0.11, 'ls': 66, 'fire': 0.79, 'landfill': 0.1},\n",
        "            \"paper\": {'r': 0.11, 'ls': 1.1, 'fire': 0.79, 'landfill': 0.1},\n",
        "            \"sawing\": {'r': 0.11, 'ls': 55, 'fire': 0.79, 'landfill': 0.1},\n",
        "            \"particle\": {'r': 0.11, 'ls': 22, 'fire': 0.79, 'landfill': 0.1}}\n",
        "\"\"\""
      ],
      "metadata": {
        "id": "Zed-gPvt-MEy"
      },
      "execution_count": null,
      "outputs": []
    },
    {
      "cell_type": "markdown",
      "source": [
        "Write Settings to file"
      ],
      "metadata": {
        "id": "VgWG69xb-cQ_"
      }
    },
    {
      "cell_type": "code",
      "source": [
        "text_file = open(\"/content/TimberTracer/timbertracer/config.py\", \"w\")\n",
        "n = text_file.write(settings)\n",
        "text_file.close()"
      ],
      "metadata": {
        "id": "NFsF2Rmr-dfE"
      },
      "execution_count": null,
      "outputs": []
    },
    {
      "cell_type": "markdown",
      "source": [
        "#Run the model"
      ],
      "metadata": {
        "id": "mHef8BLY_twj"
      }
    },
    {
      "cell_type": "code",
      "source": [
        "#Internal imports\n",
        "import app\n",
        "import config as ttdata\n",
        "\n",
        "sim_jardin_BAU = app.run_model(\n",
        "        scale = 20.33, shape= 5.65, class_width = 1 , tolerance_g = 0.3,\n",
        "        a1 = 0.6626, a2 = 0.8769, b1= 0.9712, b2 = -0.2774, b3 = 1.1107,\n",
        "        b4 = 26.4390, a = 0.7, c = 1, alpha = 0.04, beta = 2.10, CC = 0.5, D = 0.588,\n",
        "        K = 0.89, tolerance_hfind = 0.0001, efficiency = ttdata.efficiency,\n",
        "        loss_allocation = ttdata.loss_allocation, recycling = ttdata.recycling_BAU,\n",
        "        substitution_matrix = ttdata.substitution_matrix,\n",
        "        decay = ttdata.decay, PH = 141, R = 0, management_dic = ttdata.management_jardin)"
      ],
      "metadata": {
        "id": "Gz97KwDq_k0Z"
      },
      "execution_count": null,
      "outputs": []
    }
  ]
}
